{
 "cells": [
  {
   "cell_type": "code",
   "execution_count": 1,
   "metadata": {},
   "outputs": [
    {
     "name": "stdout",
     "output_type": "stream",
     "text": [
      "Populating the interactive namespace from numpy and matplotlib\n"
     ]
    }
   ],
   "source": [
    "%pylab notebook"
   ]
  },
  {
   "cell_type": "code",
   "execution_count": 2,
   "metadata": {
    "collapsed": true
   },
   "outputs": [],
   "source": [
    "import numpy as np"
   ]
  },
  {
   "cell_type": "code",
   "execution_count": 124,
   "metadata": {},
   "outputs": [],
   "source": [
    "def value_iteration(S, A, R, gamma, V, policy, theta):\n",
    "    \n",
    "    while True:\n",
    "        delta = 0\n",
    "        for s in S:\n",
    "            v = V[s]\n",
    "            As = A(s)\n",
    "            if As:\n",
    "                V[s] = max([ sum(p * (r + gamma * V[s2]) for p, s2, r in R(s, a)) for a in As])\n",
    "                delta = max(delta, abs(v - V[s]))\n",
    "        if delta < theta:\n",
    "            break\n",
    "    \n",
    "    for s in S:\n",
    "        As = A(s)\n",
    "        policy[s] = max(As[::], key = lambda a: (round(sum(p * (r + gamma * V[s2]) for p, s2, r in R(s, a)), 10), -a)) if As else 0"
   ]
  },
  {
   "cell_type": "code",
   "execution_count": 154,
   "metadata": {
    "collapsed": true
   },
   "outputs": [],
   "source": [
    "# Gambler's problem\n",
    "\n",
    "P_HEAD = 0.6\n",
    "GOAL = 100\n",
    "gamma = 1.\n",
    "\n",
    "S = range(1 + GOAL) # $ wealth\n",
    "A = lambda s: [] if s in (0, GOAL) else range(1, 1 + s) # can bet up to entire wealth\n",
    "\n",
    "def R(s, a):\n",
    "    return [ (P_HEAD, min(GOAL, s + a), int(s + a == GOAL)), (1 - P_HEAD, s - a, 0) ]\n"
   ]
  },
  {
   "cell_type": "code",
   "execution_count": null,
   "metadata": {},
   "outputs": [],
   "source": [
    "V = [ 0. for _ in S ]\n",
    "policy = [ 1 for _ in S ]\n",
    "\n",
    "value_iteration(S, A, R, gamma, V, policy, 1e-10)"
   ]
  },
  {
   "cell_type": "code",
   "execution_count": null,
   "metadata": {
    "scrolled": false
   },
   "outputs": [],
   "source": [
    "figure()\n",
    "plot(S[1:-1], policy[1:-1])"
   ]
  },
  {
   "cell_type": "code",
   "execution_count": null,
   "metadata": {},
   "outputs": [],
   "source": [
    "figure()\n",
    "plot(S[1:-1], V[1:-1])"
   ]
  },
  {
   "cell_type": "code",
   "execution_count": null,
   "metadata": {},
   "outputs": [],
   "source": [
    "figure()\n",
    "for a in range(1, 1 + GOAL):\n",
    "    Sa = range(a, GOAL)\n",
    "    plot(Sa, [ sum(p * (r + gamma * V[s2]) for p, s2, r in R(s, a)) for s in Sa ])"
   ]
  },
  {
   "cell_type": "raw",
   "metadata": {},
   "source": [
    "round"
   ]
  },
  {
   "cell_type": "code",
   "execution_count": 109,
   "metadata": {},
   "outputs": [
    {
     "data": {
      "text/plain": [
       "3.1416"
      ]
     },
     "execution_count": 109,
     "metadata": {},
     "output_type": "execute_result"
    }
   ],
   "source": []
  },
  {
   "cell_type": "code",
   "execution_count": null,
   "metadata": {
    "collapsed": true
   },
   "outputs": [],
   "source": []
  }
 ],
 "metadata": {
  "kernelspec": {
   "display_name": "Python 2",
   "language": "python",
   "name": "python2"
  },
  "language_info": {
   "codemirror_mode": {
    "name": "ipython",
    "version": 2
   },
   "file_extension": ".py",
   "mimetype": "text/x-python",
   "name": "python",
   "nbconvert_exporter": "python",
   "pygments_lexer": "ipython2",
   "version": "2.7.13"
  }
 },
 "nbformat": 4,
 "nbformat_minor": 2
}
