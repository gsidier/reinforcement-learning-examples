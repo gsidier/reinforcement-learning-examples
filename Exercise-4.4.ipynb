{
 "cells": [
  {
   "cell_type": "code",
   "execution_count": 1,
   "metadata": {
    "collapsed": true
   },
   "outputs": [],
   "source": [
    "def policy_gradient(S, R, gamma, p, V, policy, theta):\n",
    "\n",
    "    while True:\n",
    "        \n",
    "        # policy evaluation\n",
    "        while True:\n",
    "            delta = 0\n",
    "            for s in S:\n",
    "                v = V[s]\n",
    "                V[s] = sum([p[s, a, r, s2] * (r + gamma * V[s2]) for s2 in S for r in R])\n",
    "                delta = max(delta, abs(v - V[s]))\n",
    "            if delta < theta:\n",
    "                break\n",
    "\n",
    "        # policy improvement\n",
    "        policy_stable = True\n",
    "        for s in S:\n",
    "            old_action = policy[s]\n",
    "            policy[s] = max(S, key = lambda a: sum([p[s, a, r, s2] * (r + gamma * V[s2]) for s2 in S for r in R]))\n",
    "            if old_action != policy[s]:\n",
    "                policy_stable = False\n",
    "        if policy_stable:\n",
    "            break\n",
    "    \n",
    "    return V, policy\n"
   ]
  },
  {
   "cell_type": "code",
   "execution_count": null,
   "metadata": {
    "collapsed": true
   },
   "outputs": [],
   "source": []
  }
 ],
 "metadata": {
  "kernelspec": {
   "display_name": "Python 2",
   "language": "python",
   "name": "python2"
  },
  "language_info": {
   "codemirror_mode": {
    "name": "ipython",
    "version": 2
   },
   "file_extension": ".py",
   "mimetype": "text/x-python",
   "name": "python",
   "nbconvert_exporter": "python",
   "pygments_lexer": "ipython2",
   "version": "2.7.13"
  }
 },
 "nbformat": 4,
 "nbformat_minor": 2
}
