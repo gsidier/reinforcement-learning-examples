{
 "cells": [
  {
   "cell_type": "code",
   "execution_count": 7,
   "metadata": {},
   "outputs": [
    {
     "name": "stdout",
     "output_type": "stream",
     "text": [
      "Populating the interactive namespace from numpy and matplotlib\n"
     ]
    }
   ],
   "source": [
    "%pylab notebook\n",
    "import numpy as np\n",
    "from copy import copy"
   ]
  },
  {
   "cell_type": "code",
   "execution_count": 6,
   "metadata": {
    "collapsed": true
   },
   "outputs": [],
   "source": [
    "def random_choice(a, p=None):\n",
    "    return list(a)[np.random.choice(len(a), p=p)]\n",
    "\n",
    "def trajectory(s, R, policy):\n",
    "    traj = [ ]\n",
    "    while True:\n",
    "        a = policy(s)\n",
    "        traj.append((s, a))\n",
    "        if terminal(s):\n",
    "            break\n",
    "        s, r = R(s, a)\n",
    "    return traj\n",
    "\n",
    "def mc_es(S, terminal, A, R, gamma, Q, policy, niter):\n",
    "    \n",
    "    count = { }\n",
    "    \n",
    "    for _ in xrange(niter):\n",
    "        # Generate episode\n",
    "        episode = []\n",
    "        s = random_choice(S)\n",
    "        a = random_choice(A(s))\n",
    "        r = 0.\n",
    "        while True:\n",
    "            episode.append((s, a, r))\n",
    "            s, r = R(s, a)\n",
    "            if terminal(s):\n",
    "                episode.append((s, None, r))\n",
    "                break\n",
    "            a = policy[s]\n",
    "        \n",
    "        G = 0.\n",
    "        Gsa = { }\n",
    "        for (s, a, r) in episode[::-1]:\n",
    "            G += r\n",
    "            Gsa[s, a] = G\n",
    "        for ((s, a), G) in Gsa.items():\n",
    "            n = count[s, a] = count.get((s, a), 0) + 1\n",
    "            Q[s, a] = ((n - 1) * Q.get((s, a), 0) + G) / n\n",
    "        for s in set(s for (s, a, r) in episode):\n",
    "            policy[s] = max(A(s), key = lambda a: Q[s, a])\n"
   ]
  },
  {
   "cell_type": "code",
   "execution_count": 61,
   "metadata": {},
   "outputs": [],
   "source": [
    "# Blackjack\n",
    "\n",
    "GAMMA = 1.\n",
    "\n",
    "S = [ (player_sum, dealer_sum, usable_ace, terminal) \n",
    "     for player_sum in xrange(1, 1+31) \n",
    "     for dealer_sum in xrange(1, 11) \n",
    "     for usable_ace in (False, True) # True if player_sum can be increased by 10 by using an ace\n",
    "     for terminal in (False, True)]\n",
    "\n",
    "A = lambda (player_sum, dealer_sum, usable_ace, terminal): (False, True) if (player_sum < 21) and (not terminal) else (False,)\n",
    "\n",
    "terminal = lambda (player_sum, dealer_sum, usable_ace, terminal): terminal\n",
    "\n",
    "random_card = lambda: random_choice(range(1, 1+10) + [10]*3)\n",
    "\n",
    "def R(s, a):\n",
    "    player_sum, dealer_sum, usable_ace, terminal = s\n",
    "    if a: # card\n",
    "        card = random_card()\n",
    "        if card == 1:\n",
    "            usable_ace = True\n",
    "        player_sum += card\n",
    "        if player_sum > 21:\n",
    "            terminal = True\n",
    "            r = -1\n",
    "        else:\n",
    "            terminal = False\n",
    "            r = 0\n",
    "        s2 = player_sum, dealer_sum, usable_ace, terminal\n",
    "        return s2, r\n",
    "    else:\n",
    "        terminal = True\n",
    "        # use ace?\n",
    "        if usable_ace and (player_sum + 10 <= 21):\n",
    "            player_sum += 10\n",
    "        s2 = player_sum, dealer_sum, False, terminal\n",
    "        # draw dealer cards\n",
    "        while dealer_sum < 17:\n",
    "            dealer_sum += random_card()\n",
    "        if dealer_sum > 21:\n",
    "            r = +1\n",
    "        else:\n",
    "            if (player_sum > dealer_sum) and (player_sum <= 21):\n",
    "                # player wins\n",
    "                r = +1\n",
    "            elif player_sum == dealer_sum:\n",
    "                r = 0\n",
    "            else:\n",
    "                r = -1\n",
    "        return s2, r\n",
    "\n",
    "initial_guess = lambda (player_sum, dealer_sum, usable_ace, terminal): (0 if terminal or player_sum > 21 else 0.5)\n",
    "Q0 = { (s, a): initial_guess(s) for s in S for a in A(s) }\n",
    "policy0 = { (player_sum, dealer_sum, usable_ace, terminal): player_sum < 17 for (player_sum, dealer_sum, usable_ace, terminal) in S }"
   ]
  },
  {
   "cell_type": "code",
   "execution_count": 62,
   "metadata": {},
   "outputs": [],
   "source": [
    "Q = copy(Q0)\n",
    "policy = copy(policy0)"
   ]
  },
  {
   "cell_type": "code",
   "execution_count": 72,
   "metadata": {},
   "outputs": [
    {
     "name": "stdout",
     "output_type": "stream",
     "text": [
      "1240\n",
      "CPU times: user 4min 37s, sys: 36 ms, total: 4min 37s\n",
      "Wall time: 4min 37s\n"
     ]
    }
   ],
   "source": [
    "%%time\n",
    "mc_es(S, terminal, A, R, gamma, Q, policy, 10000000)\n",
    "print len(policy)"
   ]
  },
  {
   "cell_type": "code",
   "execution_count": 73,
   "metadata": {},
   "outputs": [
    {
     "name": "stdout",
     "output_type": "stream",
     "text": [
      "\n",
      "\n",
      "usable ace\n",
      ". . . . . . . . . . 21\n",
      ". . . . . . . . . . 20\n",
      ". . . . . . . . . . 19\n",
      ". . . . . . . . X X 18\n",
      "X X X X X X X X X X 17\n",
      "X X X X X X X X X X 16\n",
      "X X X X X X X X X X 15\n",
      "X X X X X X X X X X 14\n",
      "X X X X X X X X X X 13\n",
      "X X X X X X X X X X 12\n",
      "X X X X X X X X X X 11\n",
      "1 2 3 4 5 6 7 8 9 0\n",
      "\n",
      "no usable ace\n",
      ". . . . . . . . . . 21\n",
      ". . . . . . . . . . 20\n",
      ". . . . . . . . . . 19\n",
      ". . . . . . . . . . 18\n",
      ". . . . . . . . . . 17\n",
      ". . . . . . X X X . 16\n",
      ". . . . . . X X X X 15\n",
      ". . . . . . X X X X 14\n",
      "X . . . . . X X X X 13\n",
      "X . . . . . X X X X 12\n",
      "X X X X X X X X X X 11\n",
      "1 2 3 4 5 6 7 8 9 0\n"
     ]
    }
   ],
   "source": [
    "sym = { False: '.', True: 'X' }\n",
    "\n",
    "for usable_ace in (True, False):\n",
    "    print\n",
    "    print\n",
    "    print \"%susable ace\" % (\"\" if usable_ace else \"no \")\n",
    "    for player_sum in range(11, 1+21)[::-1]:\n",
    "        for dealer_sum in range(1, 1+10):\n",
    "            print sym[policy[player_sum - (10 if usable_ace else 0), dealer_sum, usable_ace, False]],\n",
    "        print player_sum\n",
    "    for dealer_sum in range(1, 1+10):\n",
    "        print dealer_sum % 10,"
   ]
  },
  {
   "cell_type": "code",
   "execution_count": 81,
   "metadata": {},
   "outputs": [
    {
     "name": "stdout",
     "output_type": "stream",
     "text": [
      "\n",
      "\n",
      "usable ace\n",
      "91 94 94 94 94 95 96 96 96 96 | 11\n",
      "76 83 83 83 84 85 88 89 90 76 | 10\n",
      "65 71 72 72 73 73 79 80 68 51 | 9\n",
      "52 58 58 59 62 61 70 59 47 43 | 8\n",
      "45 51 52 53 55 57 54 47 44 39 | 7\n",
      "44 49 51 51 54 56 49 46 44 38 | 6\n",
      "45 51 52 53 56 56 52 49 45 40 | 5\n",
      "46 52 53 55 56 58 54 52 48 42 | 4\n",
      "47 54 55 55 57 59 55 53 48 43 | 3\n",
      "50 54 57 56 57 60 59 57 52 45 | 2\n",
      "64 70 71 70 71 74 73 71 67 62 | 1\n",
      "-- -- -- -- -- -- -- -- -- --\n",
      " 1  2  3  4  5  6  7  8  9  0\n",
      "\n",
      "no usable ace\n",
      "91 94 94 94 94 95 96 96 96 96 | 21\n",
      "76 83 82 83 84 84 88 88 89 76 | 20\n",
      "63 70 71 73 74 74 79 81 68 52 | 19\n",
      "51 57 58 59 61 62 71 59 43 41 | 18\n",
      "36 44 45 47 49 51 47 33 31 29 | 17\n",
      "29 36 39 41 42 44 29 27 25 22 | 16\n",
      "30 36 39 41 43 45 32 29 27 24 | 15\n",
      "30 38 38 39 43 45 33 31 29 25 | 14\n",
      "31 37 39 41 42 44 36 33 32 28 | 13\n",
      "34 38 39 41 43 44 39 36 34 30 | 12\n",
      "57 62 63 64 66 68 64 62 58 55 | 11\n",
      "-- -- -- -- -- -- -- -- -- --\n",
      " 1  2  3  4  5  6  7  8  9  0\n"
     ]
    }
   ],
   "source": [
    "for usable_ace in (True, False):\n",
    "    print\n",
    "    print\n",
    "    print \"%susable ace\" % (\"\" if usable_ace else \"no \")\n",
    "    for player_sum in range(11, 1+21)[::-1]:\n",
    "        player_sum -= (10 if usable_ace else 0)\n",
    "        for dealer_sum in range(1, 1+10):\n",
    "            s = player_sum, dealer_sum, usable_ace, False\n",
    "            print \"%2d\" % (100*0.5*(1 + max([Q[s, a] for a in A(s)]))),\n",
    "        print \"|\", player_sum\n",
    "    for dealer_sum in range(1, 1+10):\n",
    "        print \"--\",\n",
    "    print\n",
    "    for dealer_sum in range(1, 1+10):\n",
    "        print \"%2d\" % (dealer_sum % 10),"
   ]
  },
  {
   "cell_type": "code",
   "execution_count": null,
   "metadata": {
    "collapsed": true
   },
   "outputs": [],
   "source": []
  }
 ],
 "metadata": {
  "kernelspec": {
   "display_name": "Python 2",
   "language": "python",
   "name": "python2"
  },
  "language_info": {
   "codemirror_mode": {
    "name": "ipython",
    "version": 2
   },
   "file_extension": ".py",
   "mimetype": "text/x-python",
   "name": "python",
   "nbconvert_exporter": "python",
   "pygments_lexer": "ipython2",
   "version": "2.7.13"
  }
 },
 "nbformat": 4,
 "nbformat_minor": 2
}
